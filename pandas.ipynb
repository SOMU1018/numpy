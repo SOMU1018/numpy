{
  "nbformat": 4,
  "nbformat_minor": 0,
  "metadata": {
    "colab": {
      "provenance": [],
      "authorship_tag": "ABX9TyMqF4qp2IIMeMEaTs62RnAv",
      "include_colab_link": true
    },
    "kernelspec": {
      "name": "python3",
      "display_name": "Python 3"
    },
    "language_info": {
      "name": "python"
    }
  },
  "cells": [
    {
      "cell_type": "markdown",
      "metadata": {
        "id": "view-in-github",
        "colab_type": "text"
      },
      "source": [
        "<a href=\"https://colab.research.google.com/github/SOMU1018/numpy/blob/main/pandas.ipynb\" target=\"_parent\"><img src=\"https://colab.research.google.com/assets/colab-badge.svg\" alt=\"Open In Colab\"/></a>"
      ]
    },
    {
      "cell_type": "markdown",
      "source": [
        "1. Create a Pandas DataFrame from the following dictionary:\n",
        "data = {\n",
        "'Name': ['Alice', 'Bob', 'Carol'],\n",
        "'Age': [24, 27, 22],\n",
        "'Salary': [50000, 55000, 48000]\n",
        "}\n",
        "• Add a new column called Bonus which is 10% of the salary."
      ],
      "metadata": {
        "id": "--CurDD6hz1u"
      }
    },
    {
      "cell_type": "code",
      "source": [
        "import pandas as pd\n",
        "data = {\n",
        "    'Name': ['Alice', 'Bob', 'Carol'],\n",
        "    'Age': [24, 27, 22],\n",
        "    'Salary': [50000, 55000, 48000]\n",
        "}\n",
        "df = pd.DataFrame(data)\n",
        "df['Bonus'] = df['Salary'] * 0.10\n",
        "print(\"DataFrame with Bonus column:\")\n",
        "print(df)\n"
      ],
      "metadata": {
        "colab": {
          "base_uri": "https://localhost:8080/"
        },
        "id": "PqpRpPzVh6eP",
        "outputId": "090418bd-3de3-4c33-cbb8-d1096e46bae5"
      },
      "execution_count": 14,
      "outputs": [
        {
          "output_type": "stream",
          "name": "stdout",
          "text": [
            "DataFrame with Bonus column:\n",
            "    Name  Age  Salary   Bonus\n",
            "0  Alice   24   50000  5000.0\n",
            "1    Bob   27   55000  5500.0\n",
            "2  Carol   22   48000  4800.0\n"
          ]
        }
      ]
    },
    {
      "cell_type": "markdown",
      "source": [],
      "metadata": {
        "id": "LX_hbg1Yh2Kf"
      }
    },
    {
      "cell_type": "markdown",
      "source": [
        "2. Given the DataFrame created in the above question:\n",
        "• Display the first two rows.\n",
        "• Compute the mean salary."
      ],
      "metadata": {
        "id": "jcbgC9SoiF6h"
      }
    },
    {
      "cell_type": "code",
      "source": [
        "print(\"\\nFirst two rows of the DataFrame:\")\n",
        "print(df.head(2))\n",
        "mean_salary = df['Salary'].mean()\n",
        "print(\"\\nMean Salary:\", mean_salary)\n"
      ],
      "metadata": {
        "id": "V3E40W7qiLwU"
      },
      "execution_count": null,
      "outputs": []
    },
    {
      "cell_type": "markdown",
      "source": [],
      "metadata": {
        "id": "QCYRffOfh1Id"
      }
    },
    {
      "cell_type": "markdown",
      "source": [
        "3. Using the same DataFrame:\n",
        "• Extract all rows where the Age is greater than 25.\n",
        "• Filter out rows where the Salary is less than 50000."
      ],
      "metadata": {
        "id": "_ELQk9QPiXH2"
      }
    },
    {
      "cell_type": "code",
      "source": [
        "age_filtered = df[df['Age'] > 25]\n",
        "print(\"\\nRows where Age > 25:\")\n",
        "print(age_filtered)\n",
        "salary_filtered = df[df['Salary'] >= 50000]\n",
        "print(\"\\nRows where Salary >= 50000:\")\n",
        "print(salary_filtered)"
      ],
      "metadata": {
        "id": "mOkOKCknico9"
      },
      "execution_count": null,
      "outputs": []
    },
    {
      "cell_type": "markdown",
      "source": [],
      "metadata": {
        "id": "kyuDXp9XijhE"
      }
    },
    {
      "cell_type": "markdown",
      "source": [
        "4. Create the following DataFrame:\n",
        "data = {\n",
        "'A': [1, 2, None, 4],\n",
        "'B': [None, 2, 3, None],\n",
        "'C': [1, 2, 3, 4]\n",
        "}\n",
        "df = pd.DataFrame(data)\n",
        "• Fill missing values in column A with the mean of the column.\n",
        "• Drop rows where all values are None."
      ],
      "metadata": {
        "id": "GY7Od235ikTm"
      }
    },
    {
      "cell_type": "code",
      "source": [
        "data = {\n",
        "    'A': [1, 2, None, 4],\n",
        "    'B': [None, 2, 3, None],\n",
        "    'C': [1, 2, 3, 4]\n",
        "}\n",
        "df_missing = pd.DataFrame(data)\n",
        "df_missing['A'].fillna(df_missing['A'].mean(), inplace=True)\n",
        "df_missing = df_missing.dropna(how='all')\n",
        "print(\"\\nDataFrame after filling missing values and dropping rows with all None:\")\n",
        "print(df_missing)\n"
      ],
      "metadata": {
        "id": "-qaJYWVlip-G"
      },
      "execution_count": null,
      "outputs": []
    },
    {
      "cell_type": "markdown",
      "source": [
        "5. Create a DataFrame for employees:\n",
        "data = {\n",
        "'Department': ['HR', 'HR', 'IT', 'IT', 'Finance'],\n",
        "'Employee': ['Alice', 'Bob', 'Carol', 'David', 'Eve'],\n",
        "'Salary': [50000, 45000, 60000, 65000, 70000]\n",
        "}\n",
        "• Group the data by Department and compute the total and mean salary for each\n",
        "department."
      ],
      "metadata": {
        "id": "_suFZoruix0w"
      }
    },
    {
      "cell_type": "code",
      "source": [
        "data = {\n",
        "    'Department': ['HR', 'HR', 'IT', 'IT', 'Finance'],\n",
        "    'Employee': ['Alice', 'Bob', 'Carol', 'David', 'Eve'],\n",
        "    'Salary': [50000, 45000, 60000, 65000, 70000]\n",
        "}\n",
        "df_employees = pd.DataFrame(data)\n",
        "grouped = df_employees.groupby('Department')['Salary'].agg(['sum', 'mean'])\n",
        "print(\"\\nGrouped Data by Department:\")\n",
        "print(grouped)\n"
      ],
      "metadata": {
        "colab": {
          "base_uri": "https://localhost:8080/"
        },
        "id": "5ktdHRnLi4sI",
        "outputId": "679958e6-a029-4d7e-9714-4be83cb24884"
      },
      "execution_count": 15,
      "outputs": [
        {
          "output_type": "stream",
          "name": "stdout",
          "text": [
            "\n",
            "Grouped Data by Department:\n",
            "               sum     mean\n",
            "Department                 \n",
            "Finance      70000  70000.0\n",
            "HR           95000  47500.0\n",
            "IT          125000  62500.0\n"
          ]
        }
      ]
    },
    {
      "cell_type": "markdown",
      "source": [
        "6. Given two DataFrames:\n",
        "df1 = pd.DataFrame({'ID': [1, 2, 3], 'Name': ['Alice', 'Bob', 'Carol']})\n",
        "df2 = pd.DataFrame({'ID': [2, 3, 4], 'Age': [25, 30, 22]})\n",
        "• Perform an inner join on the ID column"
      ],
      "metadata": {
        "id": "F_hm_8iGi_yU"
      }
    },
    {
      "cell_type": "code",
      "source": [
        "df1 = pd.DataFrame({'ID': [1, 2, 3], 'Name': ['Alice', 'Bob', 'Carol']})\n",
        "df2 = pd.DataFrame({'ID': [2, 3, 4], 'Age': [25, 30, 22]})\n",
        "merged_df = pd.merge(df1, df2, on='ID', how='inner')\n",
        "print(\"\\nInner join result:\")\n",
        "print(merged_df)\n"
      ],
      "metadata": {
        "id": "KBccS2OCjFBG"
      },
      "execution_count": null,
      "outputs": []
    },
    {
      "cell_type": "markdown",
      "source": [
        "7. Given a small dataset, clean and display basic statistics using Panda"
      ],
      "metadata": {
        "id": "9DpYP2ipjK2p"
      }
    },
    {
      "cell_type": "code",
      "source": [
        "data = {\n",
        "    'Name': ['Alice', 'Bob', 'Carol', None],\n",
        "    'Age': [24, 27, 22, None],\n",
        "    'Salary': [50000, 55000, 48000, None]\n",
        "}\n",
        "df_cleaning = pd.DataFrame(data)\n",
        "df_cleaning.fillna({'Name': 'Unknown', 'Age': df_cleaning['Age'].mean(), 'Salary': df_cleaning['Salary'].median()}, inplace=True)\n",
        "print(\"\\nCleaned DataFrame:\")\n",
        "print(df_cleaning)\n",
        "print(\"\\nBasic Statistics:\")\n",
        "print(df_cleaning.describe())\n"
      ],
      "metadata": {
        "id": "zEaKn0d-jOwc"
      },
      "execution_count": null,
      "outputs": []
    },
    {
      "cell_type": "markdown",
      "source": [
        "8. small EDA task\n",
        "• Load the Titanic dataset (titanic.csv) into a Pandas DataFrame.\n",
        "• Perform the following tasks:\n",
        "o Display the number of missing values in each column.\n",
        "o Find the average age of passengers.\n",
        "o Create a bar plot to show the survival rate based on gender."
      ],
      "metadata": {
        "id": "lPks36tOjZUG"
      }
    },
    {
      "cell_type": "code",
      "source": [
        "import matplotlib.pyplot as plt\n",
        "titanic_df = pd.read_csv('titanic.csv')\n",
        "print(\"\\nMissing values in each column:\")\n",
        "print(titanic_df.isnull().sum())\n",
        "average_age = titanic_df['Age'].mean()\n",
        "print(\"\\nAverage Age of Passengers:\", average_age)\n",
        "survival_by_gender = titanic_df.groupby('Sex')['Survived'].mean()\n",
        "survival_by_gender.plot(kind='bar', title='Survival Rate by Gender')\n",
        "plt.ylabel('Survival Rate')\n",
        "plt.show()\n"
      ],
      "metadata": {
        "id": "YZ8XF5CSjeJ2"
      },
      "execution_count": null,
      "outputs": []
    },
    {
      "cell_type": "markdown",
      "source": [
        "9. Data Transformation\n",
        "• Load a dataset containing daily temperatures and dates. Perform the following:\n",
        "o Convert the date column into a DateTime object.\n",
        "o Create a new column that categorizes temperatures into High, Medium, or\n",
        "Low."
      ],
      "metadata": {
        "id": "t_VIWTeEjmpX"
      }
    },
    {
      "cell_type": "code",
      "source": [
        "temperature_data = {\n",
        "    'Date': ['2024-12-20', '2024-12-21', '2024-12-22'],\n",
        "    'Temperature': [30, 20, 15]\n",
        "}\n",
        "df_temp = pd.DataFrame(temperature_data)\n",
        "df_temp['Date'] = pd.to_datetime(df_temp['Date'])\n",
        "df_temp['Category'] = pd.cut(df_temp['Temperature'],\n",
        "                             bins=[-float('inf'), 18, 25, float('inf')],\n",
        "                             labels=['Low', 'Medium', 'High'])\n",
        "print(\"\\nTransformed Temperature DataFrame:\")\n",
        "print(df_temp)\n"
      ],
      "metadata": {
        "colab": {
          "base_uri": "https://localhost:8080/"
        },
        "id": "bwyjTKTRjrv9",
        "outputId": "9570d1b3-b47d-4017-9b0b-a64687bb8370"
      },
      "execution_count": 16,
      "outputs": [
        {
          "output_type": "stream",
          "name": "stdout",
          "text": [
            "\n",
            "Transformed Temperature DataFrame:\n",
            "        Date  Temperature Category\n",
            "0 2024-12-20           30     High\n",
            "1 2024-12-21           20   Medium\n",
            "2 2024-12-22           15      Low\n"
          ]
        }
      ]
    }
  ]
}