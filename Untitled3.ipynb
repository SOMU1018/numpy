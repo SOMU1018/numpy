{
  "nbformat": 4,
  "nbformat_minor": 0,
  "metadata": {
    "colab": {
      "provenance": [],
      "authorship_tag": "ABX9TyMouu0+a2ENplnse9wgaiqg",
      "include_colab_link": true
    },
    "kernelspec": {
      "name": "python3",
      "display_name": "Python 3"
    },
    "language_info": {
      "name": "python"
    }
  },
  "cells": [
    {
      "cell_type": "markdown",
      "metadata": {
        "id": "view-in-github",
        "colab_type": "text"
      },
      "source": [
        "<a href=\"https://colab.research.google.com/github/SOMU1018/numpy/blob/main/Untitled3.ipynb\" target=\"_parent\"><img src=\"https://colab.research.google.com/assets/colab-badge.svg\" alt=\"Open In Colab\"/></a>"
      ]
    },
    {
      "cell_type": "code",
      "execution_count": null,
      "metadata": {
        "id": "PJbbJM1Db3tX"
      },
      "outputs": [],
      "source": []
    },
    {
      "cell_type": "markdown",
      "source": [
        "1. Perform Arithmetic Operations on NumPy Arrays"
      ],
      "metadata": {
        "id": "2thJnJrSb7Dm"
      }
    },
    {
      "cell_type": "code",
      "source": [
        "import numpy as np\n",
        "a = np.array([1, 2, 3])\n",
        "b = np.array([4, 5, 6])\n",
        "addition = a + b\n",
        "print(\"Addition: \", addition)\n",
        "multiplication = a * b\n",
        "print(\"Multiplication: \", multiplication)\n",
        "division = a / b\n",
        "print(\"Division: \", division)\n",
        "\n"
      ],
      "metadata": {
        "colab": {
          "base_uri": "https://localhost:8080/"
        },
        "id": "H2Ev7EaFcEk_",
        "outputId": "809873f9-4fff-4596-8db4-668c34dd03f5"
      },
      "execution_count": 1,
      "outputs": [
        {
          "output_type": "stream",
          "name": "stdout",
          "text": [
            "Addition:  [5 7 9]\n",
            "Multiplication:  [ 4 10 18]\n",
            "Division:  [0.25 0.4  0.5 ]\n"
          ]
        }
      ]
    },
    {
      "cell_type": "markdown",
      "source": [],
      "metadata": {
        "id": "TLklU_-_cc3p"
      }
    },
    {
      "cell_type": "markdown",
      "source": [
        "2.write a Script to Compute Mean and Standard Deviation of a NumPy Array"
      ],
      "metadata": {
        "id": "SrP-TpmVcd0I"
      }
    },
    {
      "cell_type": "code",
      "source": [
        "import numpy as np\n",
        "arr = np.array([1, 2, 3, 4, 5, 6, 7, 8, 9, 10])\n",
        "mean_value = np.mean(arr)\n",
        "std_deviation = np.std(arr)\n",
        "print(\"Mean: \", mean_value)\n",
        "print(\"Standard Deviation: \", std_deviation)\n"
      ],
      "metadata": {
        "colab": {
          "base_uri": "https://localhost:8080/"
        },
        "id": "j5tzXhM5cp1i",
        "outputId": "af81aa6b-1b87-4f11-c3a8-f3430f2723ea"
      },
      "execution_count": 2,
      "outputs": [
        {
          "output_type": "stream",
          "name": "stdout",
          "text": [
            "Mean:  5.5\n",
            "Standard Deviation:  2.8722813232690143\n"
          ]
        }
      ]
    },
    {
      "cell_type": "markdown",
      "source": [],
      "metadata": {
        "id": "sz1PeCn3cv20"
      }
    },
    {
      "cell_type": "markdown",
      "source": [
        "3. Create a NumPy Array of Integers from 10 to 50 with a Step Size of 5"
      ],
      "metadata": {
        "id": "HM4mbXpuc2gW"
      }
    },
    {
      "cell_type": "code",
      "source": [
        "import numpy as np\n",
        "arr_10_50 = np.arange(10, 51, 5)\n",
        "print(\"Array from 10 to 50 with step size 5: \", arr_10_50)"
      ],
      "metadata": {
        "id": "LoFVDLZoc3VZ"
      },
      "execution_count": null,
      "outputs": []
    },
    {
      "cell_type": "markdown",
      "source": [],
      "metadata": {
        "id": "ozigAesUc89s"
      }
    },
    {
      "cell_type": "markdown",
      "source": [
        "4. Reshape the array into a 2x4 matrix"
      ],
      "metadata": {
        "id": "Du_UwYyGc9qR"
      }
    },
    {
      "cell_type": "code",
      "source": [
        "import numpy as np\n",
        "arr_10_50 = np.arange(10, 51, 5)\n",
        "reshaped_arr = arr_10_50.reshape(2, 4)\n",
        "print(\"Reshaped Array (2x4):\")\n",
        "print(reshaped_arr)"
      ],
      "metadata": {
        "id": "m0f4ZeV4dGaU"
      },
      "execution_count": null,
      "outputs": []
    },
    {
      "cell_type": "markdown",
      "source": [],
      "metadata": {
        "id": "VrkTUc-UdEEf"
      }
    },
    {
      "cell_type": "markdown",
      "source": [
        "5. Sub-matrix Extraction and Replacing Elements Greater Than 4 with 0"
      ],
      "metadata": {
        "id": "lpcE_QfKdMJl"
      }
    },
    {
      "cell_type": "code",
      "source": [
        "import numpy as np\n",
        "arr2 = np.array([[1, 2, 3], [4, 5, 6], [7, 8, 9]])\n",
        "sub_matrix = arr2[1:, :2]\n",
        "print(\"Sub-matrix (Last two rows, first two columns):\")\n",
        "print(sub_matrix)\n",
        "arr2[arr2 > 4] = 0\n",
        "print(\"Array after replacing elements greater than 4 with 0:\")\n",
        "print(arr2)\n"
      ],
      "metadata": {
        "id": "x2nJmAhJdPtH"
      },
      "execution_count": null,
      "outputs": []
    },
    {
      "cell_type": "markdown",
      "source": [
        "6. Create two 1D arrays:\n",
        "• a = np.array([1, 2, 3])\n",
        "• b = np.array([4, 5, 6])\n",
        "• Perform element-wise addition, multiplication, and division.\n",
        "\n"
      ],
      "metadata": {
        "id": "0HQk0LtGdX9O"
      }
    },
    {
      "cell_type": "code",
      "source": [
        "import numpy as np\n",
        "a = np.array([1, 2, 3])\n",
        "b = np.array([4, 5, 6])\n",
        "addition = a + b\n",
        "multiplication = a * b\n",
        "division = a / b\n",
        "print(\"Element-wise Addition: \", addition)\n",
        "print(\"Element-wise Multiplication: \", multiplication)\n",
        "print(\"Element-wise Division: \", division)\n"
      ],
      "metadata": {
        "id": "-W-IpaRZdcco"
      },
      "execution_count": null,
      "outputs": []
    },
    {
      "cell_type": "markdown",
      "source": [
        "7. Create a random NumPy array of size (4, 4). Compute:\n",
        "• Mean of each column.\n",
        "• Maximum value of the entire array.\n",
        "• Sum of all elements."
      ],
      "metadata": {
        "id": "8AqD1WQndvjR"
      }
    },
    {
      "cell_type": "markdown",
      "source": [],
      "metadata": {
        "id": "7HXVLvAOeYlI"
      }
    },
    {
      "cell_type": "code",
      "source": [
        "import numpy as np\n",
        "random_arr = np.random.rand(4, 4)\n",
        "mean_col = np.mean(random_arr, axis=0)\n",
        "max_value = np.max(random_arr)\n",
        "sum_elements = np.sum(random_arr)\n",
        "print(\"Random Array (4x4):\")\n",
        "print(random_arr)\n",
        "print(\"Mean of each column: \", mean_col)\n",
        "print(\"Maximum value of the array: \", max_value)\n",
        "print(\"Sum of all elements: \", sum_elements)"
      ],
      "metadata": {
        "colab": {
          "base_uri": "https://localhost:8080/"
        },
        "id": "2LDeug6odyiF",
        "outputId": "723176e0-f275-4bd0-d4eb-480c22b8bed9"
      },
      "execution_count": 3,
      "outputs": [
        {
          "output_type": "stream",
          "name": "stdout",
          "text": [
            "Random Array (4x4):\n",
            "[[0.67738976 0.82223537 0.87785242 0.31954622]\n",
            " [0.77893423 0.93431629 0.21640631 0.2660385 ]\n",
            " [0.69845631 0.04255839 0.73234672 0.4970914 ]\n",
            " [0.91312024 0.67468591 0.6028945  0.30355967]]\n",
            "Mean of each column:  [0.76697514 0.61844899 0.60737499 0.34655895]\n",
            "Maximum value of the array:  0.9343162939865146\n",
            "Sum of all elements:  9.357432248674801\n"
          ]
        }
      ]
    },
    {
      "cell_type": "markdown",
      "source": [],
      "metadata": {
        "id": "Va1gGujXec1L"
      }
    },
    {
      "cell_type": "markdown",
      "source": [
        "8. Given the array arr = np.array([1, 2, 3, 4]), add 10 to each element and multiply\n",
        "the result by 2."
      ],
      "metadata": {
        "id": "iIzlrZf7ekc9"
      }
    },
    {
      "cell_type": "code",
      "source": [
        "import numpy as np\n",
        "arr = np.array([1, 2, 3, 4])\n",
        "result = (arr + 10) * 2\n",
        "print(\"Result after adding 10 and multiplying by 2:\", result)\n"
      ],
      "metadata": {
        "id": "eU3Vpu4jepSZ"
      },
      "execution_count": null,
      "outputs": []
    },
    {
      "cell_type": "markdown",
      "source": [
        "9. Perform advanced slicing and indexing on a 3D array.\n",
        "Create a 3D NumPy array arr of shape (3, 4, 5) with random integers ranging from\n",
        "1 to 100. Perform the following:\n",
        "• Extract the second \"layer\" (i.e., the second 2D array) in the first dimension.\n",
        "• Extract the first two rows and the last three columns from each \"layer.\"\n",
        "• Replace all elements divisible by 3 with -1."
      ],
      "metadata": {
        "id": "6pJ3UJaUevE5"
      }
    },
    {
      "cell_type": "code",
      "source": [
        "import numpy as np\n",
        "arr_3d = np.random.randint(1, 101, size=(3, 4, 5))\n",
        "print(\"3D Array (Shape: 3x4x5):\")\n",
        "print(arr_3d)\n",
        "second_layer = arr_3d[1, :, :]\n",
        "print(\"\\nSecond layer (2D array at index 1):\")\n",
        "print(second_layer)\n",
        "first_two_rows_last_three_cols = arr_3d[:,:2, -3:]\n",
        "print(\"\\nFirst two rows and last three columns from each layer:\")\n",
        "print(first_two_rows_last_three_cols)\n",
        "arr_3d[arr_3d % 3 == 0] = -1\n",
        "print(\"\\nArray after replacing elements divisible by 3 with -1:\")\n",
        "print(arr_3d)"
      ],
      "metadata": {
        "colab": {
          "base_uri": "https://localhost:8080/"
        },
        "id": "bMwknIe_ezaE",
        "outputId": "5d57c4b2-ac36-436e-f4ee-b8bb171fc316"
      },
      "execution_count": 4,
      "outputs": [
        {
          "output_type": "stream",
          "name": "stdout",
          "text": [
            "3D Array (Shape: 3x4x5):\n",
            "[[[ 50  99  22  38  73]\n",
            "  [  1  44  93  64 100]\n",
            "  [ 14  57  60  50  90]\n",
            "  [ 94  41  82  71  17]]\n",
            "\n",
            " [[ 29  82  26  23  39]\n",
            "  [ 84  84  34  38  35]\n",
            "  [ 40  77  83   6  71]\n",
            "  [ 76  45   7   4   7]]\n",
            "\n",
            " [[ 75  37  33  63  42]\n",
            "  [ 35  72  94  84  92]\n",
            "  [ 49  21  60  93  23]\n",
            "  [ 54  79  66  58  37]]]\n",
            "\n",
            "Second layer (2D array at index 1):\n",
            "[[29 82 26 23 39]\n",
            " [84 84 34 38 35]\n",
            " [40 77 83  6 71]\n",
            " [76 45  7  4  7]]\n",
            "\n",
            "First two rows and last three columns from each layer:\n",
            "[[[ 22  38  73]\n",
            "  [ 93  64 100]]\n",
            "\n",
            " [[ 26  23  39]\n",
            "  [ 34  38  35]]\n",
            "\n",
            " [[ 33  63  42]\n",
            "  [ 94  84  92]]]\n",
            "\n",
            "Array after replacing elements divisible by 3 with -1:\n",
            "[[[ 50  -1  22  38  73]\n",
            "  [  1  44  -1  64 100]\n",
            "  [ 14  -1  -1  50  -1]\n",
            "  [ 94  41  82  71  17]]\n",
            "\n",
            " [[ 29  82  26  23  -1]\n",
            "  [ -1  -1  34  38  35]\n",
            "  [ 40  77  83  -1  71]\n",
            "  [ 76  -1   7   4   7]]\n",
            "\n",
            " [[ -1  37  -1  -1  -1]\n",
            "  [ 35  -1  94  -1  92]\n",
            "  [ 49  -1  -1  -1  23]\n",
            "  [ -1  79  -1  58  37]]]\n"
          ]
        }
      ]
    },
    {
      "cell_type": "markdown",
      "source": [],
      "metadata": {
        "id": "YBcfj2Q4fE8g"
      }
    },
    {
      "cell_type": "markdown",
      "source": [
        "10. Work with broadcasting and advanced operations in NumPy.\n",
        " Create a NumPy array arr of shape (3, 3) with random integers between\n",
        " 1 and 20. Perform the following:\n",
        "• Subtract the mean of each row from its respective elements (row-wise\n",
        "normalization).\n",
        "• Create a new array by squaring all the elements in arr.\n",
        "• Find the indices of the top 3 maximum values in the entire array. codes"
      ],
      "metadata": {
        "id": "WmuqaR8zfFmi"
      }
    },
    {
      "cell_type": "code",
      "source": [
        "import numpy as np\n",
        "arr = np.random.randint(1, 21, size=(3, 3))\n",
        "print(\"Original Array:\")\n",
        "print(arr)\n",
        "row_mean = np.mean(arr, axis=1, keepdims=True)\n",
        "normalized_arr = arr - row_mean\n",
        "print(\"\\nRow-wise Normalized Array (subtracting mean of each row):\")\n",
        "print(normalized_arr)\n",
        "squared_arr = np.square(arr)\n",
        "print(\"\\nSquared Array (each element squared):\")\n",
        "print(squared_arr)\n",
        "top_3_indices = np.unravel_index(np.argsort(arr.ravel())[-3:], arr.shape)\n",
        "print(\"\\nIndices of the top 3 maximum values in the array:\")\n",
        "print(top_3_indices)\n"
      ],
      "metadata": {
        "id": "XUHQYohqfJH7"
      },
      "execution_count": null,
      "outputs": []
    }
  ]
}