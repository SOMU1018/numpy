{
  "nbformat": 4,
  "nbformat_minor": 0,
  "metadata": {
    "colab": {
      "provenance": [],
      "authorship_tag": "ABX9TyOBeDLyIYclKhW9ejmN+NL0",
      "include_colab_link": true
    },
    "kernelspec": {
      "name": "python3",
      "display_name": "Python 3"
    },
    "language_info": {
      "name": "python"
    }
  },
  "cells": [
    {
      "cell_type": "markdown",
      "metadata": {
        "id": "view-in-github",
        "colab_type": "text"
      },
      "source": [
        "<a href=\"https://colab.research.google.com/github/SOMU1018/numpy/blob/main/ass3.ipynb\" target=\"_parent\"><img src=\"https://colab.research.google.com/assets/colab-badge.svg\" alt=\"Open In Colab\"/></a>"
      ]
    },
    {
      "cell_type": "markdown",
      "source": [],
      "metadata": {
        "id": "AgIP6jUiw9Rc"
      }
    },
    {
      "cell_type": "markdown",
      "source": [
        "Basic Line Plot o Plot a simple line graph of 𝑦 = 𝑥2 for 𝑥 values ranging from -10 to 10. o Label the x-axis as \"X Values\" and the y-axis as \"Squared Values.\" o Add a title to the graph"
      ],
      "metadata": {
        "id": "gOT-fddRxA6K"
      }
    },
    {
      "cell_type": "code",
      "source": [
        "\n",
        "import matplotlib.pyplot as plt\n",
        "import numpy as np\n",
        "x = np.arange(-10, 11, 1)\n",
        "y = x**2\n",
        "\n",
        "# Create the plot\n",
        "plt.plot(x, y)\n",
        "\n",
        "# Add labels and title\n",
        "plt.xlabel(\"X Values\")\n",
        "plt.ylabel(\"Squared Values\")\n",
        "plt.title(\"Line Graph of y = x^2\")\n",
        "\n",
        "# Show the plot\n",
        "plt.show()\n",
        ""
      ],
      "metadata": {
        "id": "F7WaK8noxB3M"
      },
      "execution_count": null,
      "outputs": []
    },
    {
      "cell_type": "markdown",
      "source": [
        "Bar Plot o Create a bar chart showing the marks scored by 5 students: [Sai, 'Vamsi', 'Divij', 'Sritan', 'Sita'] with marks [85, 90, 78, 92, 88]. o Add labels to the x-axis and y-axis and give the chart a title.\n",
        "     "
      ],
      "metadata": {
        "id": "c0GRAx2zxE8s"
      }
    },
    {
      "cell_type": "code",
      "source": [
        "\n",
        "import matplotlib.pyplot as plt\n",
        "students = ['Sai', 'Vamsi', 'Divij', 'Sritan', 'Sita']\n",
        "marks = [85, 90, 78, 92, 88]\n",
        "\n",
        "# Create the bar plot\n",
        "plt.bar(students, marks)\n",
        "\n",
        "# Add labels and title\n",
        "plt.xlabel(\"Students\")\n",
        "plt.ylabel(\"Marks\")\n",
        "plt.title(\"Marks Scored by Students\")\n",
        "\n",
        "# Show the plot\n",
        "plt.show()"
      ],
      "metadata": {
        "id": "ZPjzDh3wxMSV"
      },
      "execution_count": null,
      "outputs": []
    },
    {
      "cell_type": "markdown",
      "source": [
        "Scatter Plot o Generate two lists of 20 random integers each (for x and y coordinates). o Create a scatter plot with these values, and customize it by adding color, size, and labels to the points."
      ],
      "metadata": {
        "id": "xpyAa00txW_K"
      }
    },
    {
      "cell_type": "code",
      "source": [
        "\n",
        "import matplotlib.pyplot as plt\n",
        "import numpy as np\n",
        "\n",
        "# Generate random data\n",
        "x = np.random.randint(1, 20, 20)\n",
        "y = np.random.randint(1, 20, 20)\n",
        "\n",
        "# Create the scatter plot\n",
        "plt.scatter(x, y, c='blue', s=50, label='Points')\n",
        "\n",
        "# Add labels, title, and legend\n",
        "plt.xlabel(\"X Coordinates\")\n",
        "plt.ylabel(\"Y Coordinates\")\n",
        "plt.title(\"Scatter Plot of Random Points\")\n",
        "plt.legend()\n",
        "\n",
        "# Show the plot\n",
        "plt.show()\n"
      ],
      "metadata": {
        "id": "uho7c1GpxZv7"
      },
      "execution_count": null,
      "outputs": []
    },
    {
      "cell_type": "markdown",
      "source": [
        "Histogram o Simulate 100 random values from a normal distribution using np.random.randn() and plot a histogram. o Customize the number of bins and add a grid to the plot."
      ],
      "metadata": {
        "id": "Qcc1D-17xdvi"
      }
    },
    {
      "cell_type": "code",
      "source": [
        "\n",
        "import matplotlib.pyplot as plt\n",
        "import numpy as np\n",
        "data = np.random.randn(100)\n",
        "\n",
        "# Create the histogram\n",
        "plt.hist(data, bins=10, color='green', edgecolor='black')\n",
        "\n",
        "# Add labels, title, and grid\n",
        "plt.xlabel(\"Values\")\n",
        "plt.ylabel(\"Frequency\")\n",
        "plt.title(\"Histogram of Random Data\")\n",
        "plt.grid()\n",
        "\n",
        "# Show the plot\n",
        "plt.show()"
      ],
      "metadata": {
        "id": "Ia84x6Xaxg0H"
      },
      "execution_count": null,
      "outputs": []
    },
    {
      "cell_type": "markdown",
      "source": [
        "Pie Chart o Visualize the percentage distribution of five categories ['A', 'B', 'C', 'D', 'E'] with values [20, 30, 25, 15, 10]. o Display the percentage values on the chart and use a color palette for differentiation"
      ],
      "metadata": {
        "id": "daCAIg9Cxh_U"
      }
    },
    {
      "cell_type": "code",
      "source": [
        "\n",
        "import matplotlib.pyplot as plt\n",
        "\n",
        "# Data\n",
        "categories = ['A', 'B', 'C', 'D', 'E']\n",
        "values = [20, 30, 25, 15, 10]\n",
        "\n",
        "# Create the pie chart\n",
        "plt.pie(values, labels=categories, autopct='%1.1f%%', colors=plt.cm.Paired.colors)\n",
        "\n",
        "# Add title\n",
        "plt.title(\"Percentage Distribution of Categories\")\n",
        "\n",
        "# Show the plot\n",
        "plt.show()"
      ],
      "metadata": {
        "id": "VpyzZaDrxk-x"
      },
      "execution_count": null,
      "outputs": []
    },
    {
      "cell_type": "markdown",
      "source": [
        "Box Plot (Seaborn) o Create a box plot to visualize the distribution of the marks scored by students in a class: [78, 85, 92, 88, 76, 95, 89, 84, 91, 73]. o Highlight the median and any outliers."
      ],
      "metadata": {
        "id": "mqPw8ON_xqBz"
      }
    },
    {
      "cell_type": "code",
      "source": [
        "import seaborn as sns\n",
        "import matplotlib.pyplot as plt\n",
        "\n",
        "# Data\n",
        "marks = [78, 85, 92, 88, 76, 95, 89, 84, 91, 73]\n",
        "\n",
        "# Create the box plot\n",
        "sns.boxplot(data=marks)\n",
        "\n",
        "# Add title\n",
        "plt.title(\"Box Plot of Marks\")\n",
        "\n",
        "# Show the plot\n",
        "plt.show()"
      ],
      "metadata": {
        "id": "n52wfsh2xvX_"
      },
      "execution_count": null,
      "outputs": []
    },
    {
      "cell_type": "markdown",
      "source": [
        "Heatmap (Seaborn) o Create a 5x5 matrix with random integers between 1 and 10 using np.random.randint() and visualize it as a heatmap using Seaborn. o Add a color bar and annotate the heatmap with the values."
      ],
      "metadata": {
        "id": "X9tBArkHxxPN"
      }
    },
    {
      "cell_type": "code",
      "source": [
        "import seaborn as sns\n",
        "import numpy as np\n",
        "import matplotlib.pyplot as plt\n",
        "\n",
        "# Generate random data\n",
        "data = np.random.randint(1, 10, (5, 5))\n",
        "\n",
        "# Create the heatmap\n",
        "sns.heatmap(data, annot=True, cmap='coolwarm', cbar=True)\n",
        "\n",
        "# Add title\n",
        "plt.title(\"Heatmap of Random Data\")\n",
        "\n",
        "# Show the plot\n",
        "plt.show()"
      ],
      "metadata": {
        "id": "epz3Hgahx0tt"
      },
      "execution_count": null,
      "outputs": []
    },
    {
      "cell_type": "markdown",
      "source": [
        "Comparison of Matplotlib and Seaborn o Generate a pair of plots (bar charts or line plots) using the same data in both Matplotlib and Seaborn. o Highlight the differences in the code, syntax, and aesthetics of the two libraries."
      ],
      "metadata": {
        "id": "Oqmslbx0yDTa"
      }
    },
    {
      "cell_type": "code",
      "source": [
        "import matplotlib.pyplot as plt\n",
        "import seaborn as sns\n",
        "\n",
        "# Data\n",
        "students = ['Sai', 'Vamsi', 'Divij', 'Sritan', 'Sita']\n",
        "marks = [85, 90, 78, 92, 88]\n",
        "\n",
        "# Matplotlib bar plot\n",
        "plt.bar(students, marks, color='blue')\n",
        "plt.title(\"Matplotlib Bar Plot\")\n",
        "plt.xlabel(\"Students\")\n",
        "plt.ylabel(\"Marks\")\n",
        "plt.show()\n",
        "\n",
        "# Seaborn bar plot\n",
        "sns.barplot(x=students, y=marks, palette='Blues')\n",
        "plt.title(\"Seaborn Bar Plot\")\n",
        "plt.xlabel(\"Students\")\n",
        "plt.ylabel(\"Marks\")\n",
        "plt.show()"
      ],
      "metadata": {
        "id": "iN2mOG7myEfS"
      },
      "execution_count": null,
      "outputs": []
    },
    {
      "cell_type": "markdown",
      "source": [
        "Pair Plot (Seaborn) o Manually create a small dataset with columns such as 'Age', 'Height', 'Weight' for 10 individuals and visualize the relationships using a pair plot"
      ],
      "metadata": {
        "id": "sxlncjlpyIXP"
      }
    },
    {
      "cell_type": "code",
      "source": [
        "import pandas as pd\n",
        "import seaborn as sns\n",
        "import matplotlib.pyplot as plt\n",
        "# Create a dataset\n",
        "data = {\n",
        "    'Age': [25, 30, 28, 24, 35, 40, 29, 27, 31, 26],\n",
        "    'Height': [170, 165, 175, 180, 160, 155, 172, 178, 169, 174],\n",
        "    'Weight': [70, 65, 80, 75, 60, 58, 77, 73, 68, 72]\n",
        "}\n",
        "\n",
        "df = pd.DataFrame(data)\n",
        "\n",
        "# Create the pair plot\n",
        "sns.pairplot(df)\n",
        "\n",
        "# Show the plot\n",
        "plt.show()"
      ],
      "metadata": {
        "id": "GI2EngKKyMTy"
      },
      "execution_count": null,
      "outputs": []
    }
  ]
}